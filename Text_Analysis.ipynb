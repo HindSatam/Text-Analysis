{
 "cells": [
  {
   "cell_type": "markdown",
   "id": "8d82e8a9",
   "metadata": {},
   "source": [
    "# Text Analysis"
   ]
  },
  {
   "cell_type": "markdown",
   "id": "a3c178b6",
   "metadata": {},
   "source": [
    "### This code is to analyze a given String, include: cleaning the text, convert the text to lowercase and then find and count the frequency of all unique words, as well as a specified word."
   ]
  },
  {
   "cell_type": "code",
   "execution_count": 1,
   "id": "58c1992d",
   "metadata": {},
   "outputs": [],
   "source": [
    "givenstring=\"Lorem ipsum dolor! diam amet, consetetur Lorem magna. sed diam nonumy eirmod tempor. diam et labore? et diam magna. et diam amet.\""
   ]
  },
  {
   "cell_type": "code",
   "execution_count": 2,
   "id": "08537bcf",
   "metadata": {},
   "outputs": [],
   "source": [
    "class TextAnalyzer(object):\n",
    "    \n",
    "    def __init__ (self, text):\n",
    "        #remove punctuation marks\n",
    "        formattedText = text.replace(\".\", \"\").replace(\"!\", \"\").replace(\",\", \"\").replace(\"?\",\"\")\n",
    "        formattedText = formattedText.lower()\n",
    "        self.fmtText = formattedText\n",
    "        \n",
    "        #count the frequency of all unique words\n",
    "    def freqAll(self):        \n",
    "        wordList = self.fmtText.split()\n",
    "        freq = {}\n",
    "        for word in set(wordList):\n",
    "            freq[word] = wordList.count(word)\n",
    "\n",
    "        return freq\n",
    "           \n",
    "        #count the frequency of a specific word\n",
    "    def freqOf(self,word):\n",
    "        freqDic = self.freqAll()\n",
    "        if word in freqDic:\n",
    "            return freqDic[word]\n",
    "        else:\n",
    "            return 0\n",
    "\n",
    "        "
   ]
  },
  {
   "cell_type": "markdown",
   "id": "1dcdd8f2",
   "metadata": {},
   "source": [
    "### Create an instance of TextAnalyzer class"
   ]
  },
  {
   "cell_type": "code",
   "execution_count": 3,
   "id": "13888465",
   "metadata": {},
   "outputs": [],
   "source": [
    "analyze = TextAnalyzer(givenstring)"
   ]
  },
  {
   "cell_type": "markdown",
   "id": "2d1855e6",
   "metadata": {},
   "source": [
    "### Call the function that converts the data into lowercase¶"
   ]
  },
  {
   "cell_type": "code",
   "execution_count": 4,
   "id": "47a36516",
   "metadata": {},
   "outputs": [
    {
     "name": "stdout",
     "output_type": "stream",
     "text": [
      "Formatted Text:  lorem ipsum dolor diam amet consetetur lorem magna sed diam nonumy eirmod tempor diam et labore et diam magna et diam amet\n"
     ]
    }
   ],
   "source": [
    "print(\"Formatted Text: \", analyze.fmtText)"
   ]
  },
  {
   "cell_type": "markdown",
   "id": "24ff6a28",
   "metadata": {},
   "source": [
    "### Call the function that counts the frequency of all unique words from the data"
   ]
  },
  {
   "cell_type": "code",
   "execution_count": 5,
   "id": "ecd56ca0",
   "metadata": {},
   "outputs": [
    {
     "name": "stdout",
     "output_type": "stream",
     "text": [
      "Frequency of all unique words:  {'magna': 2, 'sed': 1, 'amet': 2, 'et': 3, 'lorem': 2, 'consetetur': 1, 'eirmod': 1, 'dolor': 1, 'tempor': 1, 'labore': 1, 'nonumy': 1, 'diam': 5, 'ipsum': 1}\n"
     ]
    }
   ],
   "source": [
    "print(\"Frequency of all unique words: \", analyze.freqAll())"
   ]
  },
  {
   "cell_type": "markdown",
   "id": "07e3d892",
   "metadata": {},
   "source": [
    "### Call the function that counts the frequency of a specific word"
   ]
  },
  {
   "cell_type": "code",
   "execution_count": 9,
   "id": "b2e9045d",
   "metadata": {},
   "outputs": [
    {
     "name": "stdout",
     "output_type": "stream",
     "text": [
      "Enter the word you want to get the count for: lorem\n"
     ]
    }
   ],
   "source": [
    "word = input(\"Enter the word you want to get the count for: \")"
   ]
  },
  {
   "cell_type": "code",
   "execution_count": 10,
   "id": "8f0d041f",
   "metadata": {},
   "outputs": [
    {
     "name": "stdout",
     "output_type": "stream",
     "text": [
      "The word  lorem  appears  2  times.\n"
     ]
    }
   ],
   "source": [
    "freq = analyze.freqOf(word)\n",
    "print(\"The word \", word, \" appears \", freq, \" times.\")"
   ]
  },
  {
   "cell_type": "code",
   "execution_count": null,
   "id": "0dad876e",
   "metadata": {},
   "outputs": [],
   "source": []
  }
 ],
 "metadata": {
  "kernelspec": {
   "display_name": "Python 3 (ipykernel)",
   "language": "python",
   "name": "python3"
  },
  "language_info": {
   "codemirror_mode": {
    "name": "ipython",
    "version": 3
   },
   "file_extension": ".py",
   "mimetype": "text/x-python",
   "name": "python",
   "nbconvert_exporter": "python",
   "pygments_lexer": "ipython3",
   "version": "3.11.3"
  }
 },
 "nbformat": 4,
 "nbformat_minor": 5
}
